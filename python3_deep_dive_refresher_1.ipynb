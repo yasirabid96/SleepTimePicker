{
  "nbformat": 4,
  "nbformat_minor": 0,
  "metadata": {
    "colab": {
      "provenance": [],
      "toc_visible": true,
      "authorship_tag": "ABX9TyNV5A+QW8KXAkY0RHK42k+j",
      "include_colab_link": true
    },
    "kernelspec": {
      "name": "python3",
      "display_name": "Python 3"
    },
    "language_info": {
      "name": "python"
    }
  },
  "cells": [
    {
      "cell_type": "markdown",
      "metadata": {
        "id": "view-in-github",
        "colab_type": "text"
      },
      "source": [
        "<a href=\"https://colab.research.google.com/github/yasirabid96/SleepTimePicker/blob/master/python3_deep_dive_refresher_1.ipynb\" target=\"_parent\"><img src=\"https://colab.research.google.com/assets/colab-badge.svg\" alt=\"Open In Colab\"/></a>"
      ]
    },
    {
      "cell_type": "markdown",
      "source": [
        "# Python 3 Deep Dive Part 1 Course Notes"
      ],
      "metadata": {
        "id": "cgayZg6vppeI"
      }
    },
    {
      "cell_type": "markdown",
      "source": [
        "# **Section 2 Refresher**"
      ],
      "metadata": {
        "id": "uQN2s3PopxWL"
      }
    },
    {
      "cell_type": "markdown",
      "source": [
        "# 1 Type Hirarchy"
      ],
      "metadata": {
        "id": "XngJTZXdp9BW"
      }
    },
    {
      "cell_type": "code",
      "source": [
        "# Discussing type hirarcy in python\n",
        "\n",
        "# Numbers are subset of type hirarchy\n",
        "\n",
        "# Integral and non Integral\n",
        "# Boolean and Integers are integral\n",
        "# Float is non integral and complex number (real and imaginary part)\n",
        "# Decimal are non integral. (Decimal and float) Just more precision.\n",
        "\n",
        "#Type Hierarchy\n",
        "#In Python, every piece of data has a \"type\". This type defines what kind of data it is and what operations can be performed on it. These types are organized in a hierarchy, similar to a family tree.\n",
        "\n",
        "#Numbers in the Hierarchy\n",
        "#Numbers are a subset of this type hierarchy. This means that there's a broad category called \"Numbers\" within the larger type system.\n",
        "#Integral and Non-integral Numbers\n",
        "#Integral Numbers: These represent whole numbers without any fractional parts.\n",
        "\n",
        "#Boolean: This type represents True or False values. In Python, Booleans are considered a subtype of integers, where True is equivalent to 1 and False is equivalent to 0.\n",
        "##Integers: These represent whole numbers, such as 1, 2, 100, -5, etc.\n",
        "#Non-integral Numbers: These represent numbers with fractional parts.\n",
        "\n",
        "#Float: These are used for representing numbers with decimal points, such as 3.14, -2.5, etc.\n",
        "#Complex: These numbers have both a real and an imaginary part (represented using j), such as 2 + 3j.\n",
        "#Decimal: Similar to floats but they provide higher precision, often used for financial calculations where accuracy is crucial.\n",
        "#Fraction: A fraction is numerical value that is a part of a whole. It is evaluated by dividing a whole into number of parts. For example, ½ represents half of a whole number or a thing.\n"
      ],
      "metadata": {
        "id": "wwYjxWtPqISR"
      },
      "execution_count": null,
      "outputs": []
    },
    {
      "cell_type": "markdown",
      "source": [
        "# **Collections**"
      ],
      "metadata": {
        "id": "Y2WkozDewYJ6"
      }
    },
    {
      "cell_type": "code",
      "source": [
        "# Sequences\n",
        "# Mutable [Lists]\n",
        "# Immutable [Tuples, Strings]\n",
        "\n",
        "\n",
        "\n",
        "\n",
        "\n",
        "# Sets\n",
        "\n",
        "# Mutable [Sets]\n",
        "# Immutable [Frozen Sets]\n",
        "\n",
        "\n",
        "# Mapping\n",
        "\n",
        "# Dictionary\n"
      ],
      "metadata": {
        "id": "PVOQK-kortkC"
      },
      "execution_count": null,
      "outputs": []
    },
    {
      "cell_type": "code",
      "source": [
        "# Important Info\n",
        "\n",
        "# The implimentation of sets and dict are same , both are hashmaps but sets are not key value"
      ],
      "metadata": {
        "id": "tBfBZxouwfZ3"
      },
      "execution_count": null,
      "outputs": []
    },
    {
      "cell_type": "markdown",
      "source": [
        "# **Callables**\n"
      ],
      "metadata": {
        "id": "gLgq44vPyKoQ"
      }
    },
    {
      "cell_type": "code",
      "source": [
        "# Any thing which you can invoke"
      ],
      "metadata": {
        "id": "1ianMQxCyisD"
      },
      "execution_count": null,
      "outputs": []
    },
    {
      "cell_type": "code",
      "source": [
        "# User defined such as classes\n",
        "\n",
        "# Generators\n",
        "# instance methods (Once class gets instanciated)\n",
        "# __Call__() this dunder method allows class to become callable\n",
        "# built in functions are callable too such as len(), open()\n",
        "# built in methods we have such as .append(x) on list etc\n",
        "\n"
      ],
      "metadata": {
        "id": "2JydSElZyk6P"
      },
      "execution_count": null,
      "outputs": []
    },
    {
      "cell_type": "markdown",
      "source": [
        "# Singlton"
      ],
      "metadata": {
        "id": "TgKrMjDd3gvW"
      }
    },
    {
      "cell_type": "code",
      "source": [
        "\n",
        "# Singlton\n",
        "\n",
        "#: None\n",
        "\n",
        "# None is singlton because let say a = None and if you print a so it will refer you to the same memory point.\n",
        "# NotImplemented (when doing some sort of operator overloading such as a = Myclass() , b=2 and doing a+b so we use non implimented basically to give python signal that this is not ment to do this thing so use your own or raise error)\n",
        "# Elipses such as ... indicates as a placeholder to inciate future implimenttion of taht function etc or can be used for slicing in numpy\n"
      ],
      "metadata": {
        "id": "J4pKJc4a3iwn"
      },
      "execution_count": null,
      "outputs": []
    },
    {
      "cell_type": "markdown",
      "source": [
        "# Logical and Physical line of codes\n"
      ],
      "metadata": {
        "id": "ENO_sYIh88tL"
      }
    },
    {
      "cell_type": "code",
      "source": [
        "# Implicit and Explit\n",
        "\n",
        "# Implicit are list[], tuples(), dicts{}/ sets {} , functional args and params , they can carry multiple line and still be an expression\n",
        "\n",
        "# Expressions in:\n",
        "# list literals: [ ]\n",
        "# tuple literals: ( )\n",
        "# dictionary literals: { }\n",
        "# set literals: { }\n",
        "# function arguments / parameters\n",
        "# [1, 2, 3]\n",
        "# [1, #item 1\n",
        "# 2, #item 2\n",
        "# 3 #item 3\n",
        "# ]\n",
        "# def my_func(a,\n",
        "# b, #comment\n",
        "# c):\n",
        "# print(a, b, c)\n",
        "# my_func(10, #comment\n",
        "# 20, 30\n",
        "\n",
        "\n",
        "# Explicit\n",
        "\n",
        "# Breaking a line into multiple lines where python will break if we havnt used \\ backslash such as:\n",
        "# But inline comment in this case wont work"
      ],
      "metadata": {
        "id": "xJV6IZFk9AwJ"
      },
      "execution_count": null,
      "outputs": []
    },
    {
      "cell_type": "code",
      "source": [
        "a=10;b=10;c=10\n",
        "if a\\\n",
        "  and b\\\n",
        "  and c:\n",
        "  print('hello')"
      ],
      "metadata": {
        "colab": {
          "base_uri": "https://localhost:8080/"
        },
        "id": "rU6OOjQ881dM",
        "outputId": "ab2a6234-0cbf-414d-aaea-b52a91547180"
      },
      "execution_count": null,
      "outputs": [
        {
          "output_type": "stream",
          "name": "stdout",
          "text": [
            "hello\n"
          ]
        }
      ]
    },
    {
      "cell_type": "code",
      "source": [
        "a=10;b=10;c=10\n",
        "if a\\\n",
        "  and b\\ # hello\n",
        "  and c:\n",
        "  print('hello')"
      ],
      "metadata": {
        "id": "Agd6xM829L9N"
      },
      "execution_count": null,
      "outputs": []
    },
    {
      "cell_type": "markdown",
      "source": [
        "# MutliLine String Literals"
      ],
      "metadata": {
        "id": "jXFBufDP9Xd_"
      }
    },
    {
      "cell_type": "code",
      "source": [
        "'''\n",
        "\n",
        "Hello\n",
        "'''\n",
        "\n",
        "\n",
        "\"\"\"\n",
        "Hello\n",
        "\n",
        "\"\"\"\n",
        "\n",
        "\n",
        "# Important note # Comments dont get compiled but doc string does."
      ],
      "metadata": {
        "colab": {
          "base_uri": "https://localhost:8080/",
          "height": 35
        },
        "id": "A2UCEW589b3q",
        "outputId": "817d03ad-6a31-4bfa-907d-f5e7ddfc70fd"
      },
      "execution_count": null,
      "outputs": [
        {
          "output_type": "execute_result",
          "data": {
            "text/plain": [
              "'\\nHello\\n\\n'"
            ],
            "application/vnd.google.colaboratory.intrinsic+json": {
              "type": "string"
            }
          },
          "metadata": {},
          "execution_count": 6
        }
      ]
    },
    {
      "cell_type": "code",
      "source": [
        "# Example of line continuation"
      ],
      "metadata": {
        "id": "ncUF9uz_-3Qz"
      },
      "execution_count": null,
      "outputs": []
    },
    {
      "cell_type": "code",
      "source": [
        "a=[1,3,4]\n",
        "\n"
      ],
      "metadata": {
        "id": "Kfccx2TD-6DF"
      },
      "execution_count": null,
      "outputs": []
    },
    {
      "cell_type": "code",
      "source": [
        "\n",
        "a = [1,2,4,\n",
        "     5,6]\n"
      ],
      "metadata": {
        "id": "bVuzXU6I_C_1"
      },
      "execution_count": null,
      "outputs": []
    },
    {
      "cell_type": "code",
      "source": [
        "a"
      ],
      "metadata": {
        "colab": {
          "base_uri": "https://localhost:8080/"
        },
        "id": "fQ9nZ57P_Dso",
        "outputId": "44d6557b-2334-4ed3-99de-d69edc0d3f8c"
      },
      "execution_count": null,
      "outputs": [
        {
          "output_type": "execute_result",
          "data": {
            "text/plain": [
              "[1, 2, 4, 5, 6]"
            ]
          },
          "metadata": {},
          "execution_count": 11
        }
      ]
    },
    {
      "cell_type": "markdown",
      "source": [
        "# 2 Ways of adding inline comment in implicit expressions"
      ],
      "metadata": {
        "id": "1kLm2V4TABcY"
      }
    },
    {
      "cell_type": "code",
      "source": [
        "a = [1 #Item\n",
        "     ,2]\n",
        "\n",
        "\n",
        "a\n",
        "\n"
      ],
      "metadata": {
        "colab": {
          "base_uri": "https://localhost:8080/"
        },
        "id": "th9b23OG_tFc",
        "outputId": "37fd78f6-34f9-4545-e026-fb5bcd92731f"
      },
      "execution_count": null,
      "outputs": [
        {
          "output_type": "execute_result",
          "data": {
            "text/plain": [
              "[1, 2]"
            ]
          },
          "metadata": {},
          "execution_count": 12
        }
      ]
    },
    {
      "cell_type": "code",
      "source": [
        "a= [1, #Item\n",
        "   2]\n",
        "\n",
        "a"
      ],
      "metadata": {
        "colab": {
          "base_uri": "https://localhost:8080/"
        },
        "id": "oSK0H4Bz_3tt",
        "outputId": "81753d41-0485-496d-bf95-8c089cffb423"
      },
      "execution_count": null,
      "outputs": [
        {
          "output_type": "execute_result",
          "data": {
            "text/plain": [
              "[1, 2]"
            ]
          },
          "metadata": {},
          "execution_count": 15
        }
      ]
    },
    {
      "cell_type": "markdown",
      "source": [],
      "metadata": {
        "id": "KC8M4KnB-52E"
      }
    },
    {
      "cell_type": "code",
      "source": [
        "# same for tuple and sets and dict and functions"
      ],
      "metadata": {
        "id": "y3BbxpGHAXCv"
      },
      "execution_count": null,
      "outputs": []
    },
    {
      "cell_type": "code",
      "source": [
        "def my_func(a, # value is good\n",
        "            b,\n",
        "            c):\n",
        "    print(a,b,c)\n"
      ],
      "metadata": {
        "id": "K81-cmZlA-DT"
      },
      "execution_count": null,
      "outputs": []
    },
    {
      "cell_type": "code",
      "source": [
        "my_func(10,20,40)"
      ],
      "metadata": {
        "colab": {
          "base_uri": "https://localhost:8080/"
        },
        "id": "5nfn8ogPBFhX",
        "outputId": "8d4674af-9dfb-45e3-d72b-773bf1c9c87c"
      },
      "execution_count": null,
      "outputs": [
        {
          "output_type": "stream",
          "name": "stdout",
          "text": [
            "10 20 40\n"
          ]
        }
      ]
    },
    {
      "cell_type": "code",
      "source": [
        "a = 10\n",
        "b =10\n",
        "c=10\n"
      ],
      "metadata": {
        "id": "jz92xL_gcinw"
      },
      "execution_count": null,
      "outputs": []
    },
    {
      "cell_type": "code",
      "source": [
        "if a > 5\\\n",
        "  and b > 5\\\n",
        "    and c > 5:\n",
        "      print('hello')"
      ],
      "metadata": {
        "colab": {
          "base_uri": "https://localhost:8080/"
        },
        "id": "UNyBCvRUcnbd",
        "outputId": "2e22b68f-08da-4a4a-c7bf-4fd2f29f33f2"
      },
      "execution_count": null,
      "outputs": [
        {
          "output_type": "stream",
          "name": "stdout",
          "text": [
            "hello\n"
          ]
        }
      ]
    },
    {
      "cell_type": "code",
      "source": [
        "# make it more readable is the key use formatters such as pep8 or black to enable auto implimentation of best practices"
      ],
      "metadata": {
        "id": "hRQ_vKIxcmfk"
      },
      "execution_count": null,
      "outputs": []
    },
    {
      "cell_type": "markdown",
      "source": [
        "# Use String Indentation"
      ],
      "metadata": {
        "id": "V45nhci7hSAz"
      }
    },
    {
      "cell_type": "code",
      "source": [
        "a= ''''Some work to be done\n",
        "\n",
        "\n",
        "    yup'''\n",
        "\n",
        "a"
      ],
      "metadata": {
        "colab": {
          "base_uri": "https://localhost:8080/",
          "height": 35
        },
        "id": "Nf759fwlhWXA",
        "outputId": "4c2013ec-8481-4cc0-bf7a-c36db175ea60"
      },
      "execution_count": null,
      "outputs": [
        {
          "output_type": "execute_result",
          "data": {
            "text/plain": [
              "\"'Some work to be done\\n\\n\\n    yup\""
            ],
            "application/vnd.google.colaboratory.intrinsic+json": {
              "type": "string"
            }
          },
          "metadata": {},
          "execution_count": 5
        }
      ]
    },
    {
      "cell_type": "code",
      "source": [
        "# as notices it is preserving \\n as welll"
      ],
      "metadata": {
        "id": "6o5MHq8JhcAt"
      },
      "execution_count": null,
      "outputs": []
    },
    {
      "cell_type": "code",
      "source": [
        "def my_func():\n",
        "  a = '''this is my life\n",
        "i like it'''\n",
        "  return a\n",
        "\n",
        "print(my_func()) # since in this case indentation doent work like as epxected for string literals"
      ],
      "metadata": {
        "colab": {
          "base_uri": "https://localhost:8080/"
        },
        "id": "9DDYDpqyhrf1",
        "outputId": "762a5d1e-a9e4-4c89-e853-55a31f7a61eb"
      },
      "execution_count": null,
      "outputs": [
        {
          "output_type": "stream",
          "name": "stdout",
          "text": [
            "this is my life\n",
            "i like it\n"
          ]
        }
      ]
    },
    {
      "cell_type": "markdown",
      "source": [
        "# Indentifier Names"
      ],
      "metadata": {
        "id": "_UsnVNgodCeO"
      }
    },
    {
      "cell_type": "code",
      "source": [
        "# are case sensitive my_var\n",
        "\n",
        "# Must start with underscore (_) or letter (a-z A-Z)\n",
        "\n",
        "  # Followed by any number or underscores, letters or digits (0-9)\n",
        "\n",
        "  # var my_var index1 index_1 _var __var __lt__\n",
        "\n",
        "# It cannot be reserved words which are python preserved\n"
      ],
      "metadata": {
        "id": "CLeg5Y58dFD_"
      },
      "execution_count": null,
      "outputs": []
    },
    {
      "cell_type": "markdown",
      "source": [
        "# Convensions"
      ],
      "metadata": {
        "id": "NdrDusJmhJtX"
      }
    },
    {
      "cell_type": "code",
      "source": [
        "# _my_var this _ to indicate its private which is still accessable but its a convention\n",
        "# object named this way will not be imported by statement such as from module import *\n",
        "\n",
        "\n",
        "# Name Mangling\n",
        "\n",
        "# __my_var\n",
        "  # Useful in inheritance chains\n",
        "\n",
        "# __my_var__ dont invent them stick to system defined\n"
      ],
      "metadata": {
        "id": "27I0DDs-hF9j"
      },
      "execution_count": null,
      "outputs": []
    },
    {
      "cell_type": "markdown",
      "source": [
        "# Other Naming Conventions"
      ],
      "metadata": {
        "id": "awVjaYCwt-Po"
      }
    },
    {
      "cell_type": "code",
      "source": [
        "\n",
        "############# This is PEP 8 STYLE GUIDE #############\n",
        "\n",
        "# Packages short, all-lowercase names, Preferably no underscores.  # utilities\n",
        "\n",
        "# Modules short, all-lowercase names, can have underscores # db_utils dbutils\n",
        "\n",
        "# Classes CapWords (Upper Camel Case) convention. BankAccount\n",
        "\n",
        "# Functions Lowercase words seperated by _ and snake case # open_account\n",
        "\n",
        "# Variables Lowercase words seperated by _ and snake case # account_id\n",
        "\n",
        "# Constants all-uppercase, words seperated by underscores MIN_APR\n"
      ],
      "metadata": {
        "id": "xVPgu1JyuDAR"
      },
      "execution_count": null,
      "outputs": []
    },
    {
      "cell_type": "markdown",
      "source": [
        "# Example"
      ],
      "metadata": {
        "id": "sS7igIn-unOb"
      }
    },
    {
      "cell_type": "code",
      "source": [
        "# Package: utilities # Technically folder\n",
        "# Module: db_utils # file name\n",
        "\n",
        "# File: utilities/db_utils.py\n",
        "class BankAccount: # Class name\n",
        "    def __init__(self, account_number, balance=0.0):\n",
        "        self.account_number = account_number\n",
        "        self.balance = balance\n",
        "\n",
        "    def deposit(self, amount):\n",
        "        if amount > 0:\n",
        "            self.balance += amount\n",
        "            return True\n",
        "        return False\n",
        "\n",
        "    def withdraw(self, amount):\n",
        "        if 0 < amount <= self.balance:\n",
        "            self.balance -= amount\n",
        "            return True\n",
        "        return False\n",
        "\n",
        "    def get_balance(self):\n",
        "        return self.balance\n",
        "\n",
        "\n",
        "from utilities.db_utils import BankAccount\n",
        "\n",
        "account = BankAccount(account_number=\"12345678\")\n",
        "account.deposit(500)\n",
        "account.withdraw(100)\n",
        "print(account.get_balance())  # Output: 400\n"
      ],
      "metadata": {
        "id": "tYd_UCo5upTh"
      },
      "execution_count": null,
      "outputs": []
    },
    {
      "cell_type": "markdown",
      "source": [
        "# Conditionals"
      ],
      "metadata": {
        "id": "5ha4QVUNvfbh"
      }
    },
    {
      "cell_type": "code",
      "source": [
        "a = 6\n",
        "\n",
        "if a < 5:\n",
        "  print('a < 5')\n",
        "else:\n",
        "  print('a >= 5')"
      ],
      "metadata": {
        "colab": {
          "base_uri": "https://localhost:8080/"
        },
        "id": "fA8FduyEvigB",
        "outputId": "d54d4992-317a-4afd-970a-1d531cc1d33b"
      },
      "execution_count": null,
      "outputs": [
        {
          "output_type": "stream",
          "name": "stdout",
          "text": [
            "a >= 5\n"
          ]
        }
      ]
    },
    {
      "cell_type": "code",
      "source": [
        "# Example of nested if\n",
        "a = 10\n",
        "\n",
        "if a<5:\n",
        "  print('a < 5')\n",
        "else:\n",
        "  if a < 10:\n",
        "    print(\"5 <= a < 10\")\n",
        "  else:\n",
        "    print(\"a >= 10\")\n"
      ],
      "metadata": {
        "colab": {
          "base_uri": "https://localhost:8080/"
        },
        "id": "d7R7v97UvmLe",
        "outputId": "36cbb674-0ea0-4e01-f049-8dbb2e3d9ad2"
      },
      "execution_count": null,
      "outputs": [
        {
          "output_type": "stream",
          "name": "stdout",
          "text": [
            "a >= 10\n"
          ]
        }
      ]
    },
    {
      "cell_type": "code",
      "source": [
        "a=[1,2,3,4,5]\n",
        "b=[1,2,3,4,5]\n",
        "\n",
        "for i in a:\n",
        "  print(i)\n",
        "  for j in b:\n",
        "      print(j)"
      ],
      "metadata": {
        "colab": {
          "base_uri": "https://localhost:8080/"
        },
        "id": "stw0VujPwBQv",
        "outputId": "369a3b7b-3f5a-49b2-fbd6-bb6500ea3d4f"
      },
      "execution_count": null,
      "outputs": [
        {
          "output_type": "stream",
          "name": "stdout",
          "text": [
            "1\n",
            "1\n",
            "2\n",
            "3\n",
            "4\n",
            "5\n",
            "2\n",
            "1\n",
            "2\n",
            "3\n",
            "4\n",
            "5\n",
            "3\n",
            "1\n",
            "2\n",
            "3\n",
            "4\n",
            "5\n",
            "4\n",
            "1\n",
            "2\n",
            "3\n",
            "4\n",
            "5\n",
            "5\n",
            "1\n",
            "2\n",
            "3\n",
            "4\n",
            "5\n"
          ]
        }
      ]
    },
    {
      "cell_type": "markdown",
      "source": [
        "# No Switch Statement in Python"
      ],
      "metadata": {
        "id": "irkrHlqaz83Z"
      }
    },
    {
      "cell_type": "code",
      "source": [
        "# THE CLOSET TO SWITCH STATEMENT IS ELIF\n",
        "\n",
        "a = 5\n",
        "\n",
        "if a<5:\n",
        "  print('a < 5')\n",
        "elif a < 10:\n",
        "  print(\"5 <= a < 10\")\n",
        "elif a < 15:\n",
        "  print(\"10 <= a < 15\" )\n",
        "elif a < 20:\n",
        "  print(\"15 <= a < 20\")\n",
        "else:\n",
        "  print(\"a >= 20\")"
      ],
      "metadata": {
        "colab": {
          "base_uri": "https://localhost:8080/"
        },
        "id": "DXvze3EWz_4H",
        "outputId": "20fcd53c-2a5e-49c5-f255-a7ca7a117f46"
      },
      "execution_count": null,
      "outputs": [
        {
          "output_type": "stream",
          "name": "stdout",
          "text": [
            "5 <= a < 10\n"
          ]
        }
      ]
    },
    {
      "cell_type": "code",
      "source": [
        "b = 'a < 5' if a < 5 else 'a >= 5'\n",
        "# This code uses a ternary operator\n",
        "#(also known as a conditional expression) to assign a value to the variable b.\n",
        "print(b)"
      ],
      "metadata": {
        "colab": {
          "base_uri": "https://localhost:8080/"
        },
        "id": "3ECgUBJA0HqO",
        "outputId": "aba4133c-cf81-446a-859f-be5c9dfece57"
      },
      "execution_count": null,
      "outputs": [
        {
          "output_type": "stream",
          "name": "stdout",
          "text": [
            "a >= 5\n"
          ]
        }
      ]
    },
    {
      "cell_type": "markdown",
      "source": [
        "# Functions"
      ],
      "metadata": {
        "id": "p0rwdvEs7ZwB"
      }
    },
    {
      "cell_type": "code",
      "source": [
        "s=[1,2,3]\n",
        "len(s)\n",
        "\n",
        "\n"
      ],
      "metadata": {
        "colab": {
          "base_uri": "https://localhost:8080/"
        },
        "id": "KzfjRZf07cqM",
        "outputId": "761b3102-e537-4469-f9c9-8172a39ef310"
      },
      "execution_count": null,
      "outputs": [
        {
          "output_type": "execute_result",
          "data": {
            "text/plain": [
              "3"
            ]
          },
          "metadata": {},
          "execution_count": 17
        }
      ]
    },
    {
      "cell_type": "code",
      "source": [
        "import math\n"
      ],
      "metadata": {
        "id": "N7LBfS_97flV"
      },
      "execution_count": null,
      "outputs": []
    },
    {
      "cell_type": "code",
      "source": [
        "math.pi"
      ],
      "metadata": {
        "colab": {
          "base_uri": "https://localhost:8080/"
        },
        "id": "nhiwC_bR7kbd",
        "outputId": "01ca6e25-9da9-484a-b998-c9c5f39cadb1"
      },
      "execution_count": null,
      "outputs": [
        {
          "output_type": "execute_result",
          "data": {
            "text/plain": [
              "3.141592653589793"
            ]
          },
          "metadata": {},
          "execution_count": 19
        }
      ]
    },
    {
      "cell_type": "code",
      "source": [
        "math.exp(1)"
      ],
      "metadata": {
        "colab": {
          "base_uri": "https://localhost:8080/"
        },
        "id": "-Ux1DvKR7qDJ",
        "outputId": "6a783ebf-7c31-4f4e-9a67-e37f4d3cc336"
      },
      "execution_count": null,
      "outputs": [
        {
          "output_type": "execute_result",
          "data": {
            "text/plain": [
              "2.718281828459045"
            ]
          },
          "metadata": {},
          "execution_count": 20
        }
      ]
    },
    {
      "cell_type": "code",
      "source": [
        "def func_1():\n",
        "  '''Good Function'''\n",
        "  print('running func_1')\n",
        "  print('done with func_1')\n",
        "\n",
        "func_1()\n"
      ],
      "metadata": {
        "colab": {
          "base_uri": "https://localhost:8080/"
        },
        "id": "Ip9uPKTx7l-K",
        "outputId": "5f193de8-8a81-49bc-c0d8-07e3477f08b6"
      },
      "execution_count": null,
      "outputs": [
        {
          "output_type": "stream",
          "name": "stdout",
          "text": [
            "running func_1\n",
            "done with func_1\n"
          ]
        }
      ]
    },
    {
      "cell_type": "code",
      "source": [
        "def func_2(a: int,b: int): # type hinting for documentation not actually forced\n",
        "  return a*b\n",
        "\n",
        "func_2(4,3)"
      ],
      "metadata": {
        "colab": {
          "base_uri": "https://localhost:8080/"
        },
        "id": "KB58fMdi7wkX",
        "outputId": "0e8ecfa1-defe-4051-bf02-dc9e2938d878"
      },
      "execution_count": null,
      "outputs": [
        {
          "output_type": "execute_result",
          "data": {
            "text/plain": [
              "12"
            ]
          },
          "metadata": {},
          "execution_count": 27
        }
      ]
    },
    {
      "cell_type": "code",
      "source": [
        "# In Python, functions are objects and can\n",
        "#be treated like variables. During compilation, the interpreter doesn't execute the\n",
        "# function's code. When it encounters the 'def' keyword, it creates a function\n",
        "#object with associated metadata (name, parameters, docstring, etc.) and establishes\n",
        "# the function's scope, but delays execution until the function is called."
      ],
      "metadata": {
        "id": "IJeA3i0p8FJz"
      },
      "execution_count": null,
      "outputs": []
    },
    {
      "cell_type": "code",
      "source": [
        "# Term\tPython's Behavior\n",
        "# Execution\tRunning a Python program, managed by the interpreter and PVM.\n",
        "# Interpretation\tConverts bytecode into executable instructions at runtime.\n",
        "# Compilation\tConverts Python source code into bytecode (.pyc files) behind the scenes.\n",
        "# Runtime\tThe phase when the program is actively executing and interacting.\n",
        "\n",
        "\n",
        "# Bytecode                                   \t           #Binary\n",
        "# Purpose\tIntermediate code for virtual machines\t        Machine code for direct execution\n",
        "# Platform\tPlatform-independent\t                        Platform-dependent\n",
        "# Execution\tRequires a virtual machine or interpreter   \tExecuted directly by the CPU\n",
        "# Readability\tPartially readable (if disassembled)\t      Not human-readable\n",
        "# Example Output\tPython .pyc file\t.exe or .bin file\n",
        "# Python Context\tUsed internally by Python interpreter.  Not directly produced by Python\n",
        "\n",
        "\n",
        "# Interpretation vs. Compilation:\n",
        "\n",
        "# Unlike compiled languages (like C), where source code is converted\n",
        "#  into machine code (binary) directly, Python keeps the bytecode as an intermediate step.\n",
        "# The PVM acts as the \"translator\" between bytecode and actual machine operations."
      ],
      "metadata": {
        "id": "MIQIgvaf-XoA"
      },
      "execution_count": null,
      "outputs": []
    },
    {
      "cell_type": "code",
      "source": [
        "def fun_3():\n",
        "  return func_4()\n",
        "\n",
        "def func_4():\n",
        "  return 'running func_4'\n",
        "\n",
        "fun_3()"
      ],
      "metadata": {
        "colab": {
          "base_uri": "https://localhost:8080/",
          "height": 35
        },
        "id": "_-Vo5LD_DSqg",
        "outputId": "0a6c4048-121d-4e48-b943-525c9f83a1ab"
      },
      "execution_count": null,
      "outputs": [
        {
          "output_type": "execute_result",
          "data": {
            "text/plain": [
              "'running func_4'"
            ],
            "application/vnd.google.colaboratory.intrinsic+json": {
              "type": "string"
            }
          },
          "metadata": {},
          "execution_count": 30
        }
      ]
    },
    {
      "cell_type": "code",
      "source": [
        "# Calling func_5() before defining func_6() will result in an error.\n",
        "# This is because when func_5() is called, it attempts to call func_6(),\n",
        "# which hasn't been defined yet and is therefore not available in the scope.\n",
        "\n",
        "def func_5():\n",
        "  return func_6()\n",
        "\n",
        "print(func_5())\n",
        "\n",
        "def func_6():\n",
        "  print('running func_6')"
      ],
      "metadata": {
        "colab": {
          "base_uri": "https://localhost:8080/",
          "height": 332
        },
        "id": "tBX07jTdDUig",
        "outputId": "a210152a-de99-4f5e-f7c0-ef61cf5273d8"
      },
      "execution_count": null,
      "outputs": [
        {
          "output_type": "error",
          "ename": "NameError",
          "evalue": "name 'func_6' is not defined",
          "traceback": [
            "\u001b[0;31m---------------------------------------------------------------------------\u001b[0m",
            "\u001b[0;31mNameError\u001b[0m                                 Traceback (most recent call last)",
            "\u001b[0;32m<ipython-input-31-167b7475f4bd>\u001b[0m in \u001b[0;36m<cell line: 6>\u001b[0;34m()\u001b[0m\n\u001b[1;32m      4\u001b[0m   \u001b[0;32mreturn\u001b[0m \u001b[0mfunc_6\u001b[0m\u001b[0;34m(\u001b[0m\u001b[0;34m)\u001b[0m\u001b[0;34m\u001b[0m\u001b[0;34m\u001b[0m\u001b[0m\n\u001b[1;32m      5\u001b[0m \u001b[0;34m\u001b[0m\u001b[0m\n\u001b[0;32m----> 6\u001b[0;31m \u001b[0mprint\u001b[0m\u001b[0;34m(\u001b[0m\u001b[0mfunc_5\u001b[0m\u001b[0;34m(\u001b[0m\u001b[0;34m)\u001b[0m\u001b[0;34m)\u001b[0m\u001b[0;34m\u001b[0m\u001b[0;34m\u001b[0m\u001b[0m\n\u001b[0m\u001b[1;32m      7\u001b[0m \u001b[0;34m\u001b[0m\u001b[0m\n\u001b[1;32m      8\u001b[0m \u001b[0;32mdef\u001b[0m \u001b[0mfunc_6\u001b[0m\u001b[0;34m(\u001b[0m\u001b[0;34m)\u001b[0m\u001b[0;34m:\u001b[0m\u001b[0;34m\u001b[0m\u001b[0;34m\u001b[0m\u001b[0m\n",
            "\u001b[0;32m<ipython-input-31-167b7475f4bd>\u001b[0m in \u001b[0;36mfunc_5\u001b[0;34m()\u001b[0m\n\u001b[1;32m      2\u001b[0m \u001b[0;34m\u001b[0m\u001b[0m\n\u001b[1;32m      3\u001b[0m \u001b[0;32mdef\u001b[0m \u001b[0mfunc_5\u001b[0m\u001b[0;34m(\u001b[0m\u001b[0;34m)\u001b[0m\u001b[0;34m:\u001b[0m\u001b[0;34m\u001b[0m\u001b[0;34m\u001b[0m\u001b[0m\n\u001b[0;32m----> 4\u001b[0;31m   \u001b[0;32mreturn\u001b[0m \u001b[0mfunc_6\u001b[0m\u001b[0;34m(\u001b[0m\u001b[0;34m)\u001b[0m\u001b[0;34m\u001b[0m\u001b[0;34m\u001b[0m\u001b[0m\n\u001b[0m\u001b[1;32m      5\u001b[0m \u001b[0;34m\u001b[0m\u001b[0m\n\u001b[1;32m      6\u001b[0m \u001b[0mprint\u001b[0m\u001b[0;34m(\u001b[0m\u001b[0mfunc_5\u001b[0m\u001b[0;34m(\u001b[0m\u001b[0;34m)\u001b[0m\u001b[0;34m)\u001b[0m\u001b[0;34m\u001b[0m\u001b[0;34m\u001b[0m\u001b[0m\n",
            "\u001b[0;31mNameError\u001b[0m: name 'func_6' is not defined"
          ]
        }
      ]
    },
    {
      "cell_type": "code",
      "source": [
        "type(func_5)"
      ],
      "metadata": {
        "colab": {
          "base_uri": "https://localhost:8080/"
        },
        "id": "4sBgxcheD6NN",
        "outputId": "727b998e-f938-46f8-f92b-f6217acaa1b5"
      },
      "execution_count": null,
      "outputs": [
        {
          "output_type": "execute_result",
          "data": {
            "text/plain": [
              "function"
            ]
          },
          "metadata": {},
          "execution_count": 32
        }
      ]
    },
    {
      "cell_type": "code",
      "source": [
        "my_func = func_4\n",
        "my_func()"
      ],
      "metadata": {
        "colab": {
          "base_uri": "https://localhost:8080/",
          "height": 35
        },
        "id": "KZBuAk75JW3o",
        "outputId": "272f92aa-0a71-42e7-b9d1-8598dad6aafb"
      },
      "execution_count": null,
      "outputs": [
        {
          "output_type": "execute_result",
          "data": {
            "text/plain": [
              "'running func_4'"
            ],
            "application/vnd.google.colaboratory.intrinsic+json": {
              "type": "string"
            }
          },
          "metadata": {},
          "execution_count": 34
        }
      ]
    },
    {
      "cell_type": "code",
      "source": [
        "func_4()\n",
        "\n",
        "my_func()"
      ],
      "metadata": {
        "colab": {
          "base_uri": "https://localhost:8080/",
          "height": 35
        },
        "id": "rzjvGrsWJdJ9",
        "outputId": "b502d2bc-aa75-411a-dd60-9727de251f39"
      },
      "execution_count": null,
      "outputs": [
        {
          "output_type": "execute_result",
          "data": {
            "text/plain": [
              "'running func_4'"
            ],
            "application/vnd.google.colaboratory.intrinsic+json": {
              "type": "string"
            }
          },
          "metadata": {},
          "execution_count": 35
        }
      ]
    },
    {
      "cell_type": "markdown",
      "source": [
        "# Lambda"
      ],
      "metadata": {
        "id": "ijwpZlswJuCQ"
      }
    },
    {
      "cell_type": "code",
      "source": [
        "# Lambda does the same thing as my_func = func_4 but without name\n",
        "\n",
        "lambda x: x**2\n",
        "\n"
      ],
      "metadata": {
        "colab": {
          "base_uri": "https://localhost:8080/"
        },
        "id": "6wFEBwkRJvOP",
        "outputId": "e091c4f4-e14c-46cd-b091-113c3e6408ea"
      },
      "execution_count": null,
      "outputs": [
        {
          "output_type": "execute_result",
          "data": {
            "text/plain": [
              "<function __main__.<lambda>(x)>"
            ]
          },
          "metadata": {},
          "execution_count": 37
        }
      ]
    },
    {
      "cell_type": "code",
      "source": [
        "fn1 = lambda x: x**2    # as we can see fn1 type is function si lambda is same as function but without def\n",
        "fn1(3)"
      ],
      "metadata": {
        "colab": {
          "base_uri": "https://localhost:8080/"
        },
        "id": "nggrwSd3KAsa",
        "outputId": "011d492d-99b7-4b2a-87f4-3dbe271a3d7c"
      },
      "execution_count": null,
      "outputs": [
        {
          "output_type": "execute_result",
          "data": {
            "text/plain": [
              "9"
            ]
          },
          "metadata": {},
          "execution_count": 1
        }
      ]
    },
    {
      "cell_type": "code",
      "source": [
        "type(fn1)"
      ],
      "metadata": {
        "colab": {
          "base_uri": "https://localhost:8080/"
        },
        "id": "a4zke1aeynx_",
        "outputId": "ac866085-aed9-434f-e409-57fa54dc1765"
      },
      "execution_count": null,
      "outputs": [
        {
          "output_type": "execute_result",
          "data": {
            "text/plain": [
              "function"
            ]
          },
          "metadata": {},
          "execution_count": 2
        }
      ]
    },
    {
      "cell_type": "code",
      "source": [
        "# and we know function are just object same as variables"
      ],
      "metadata": {
        "id": "SmtXA1q8yyVo"
      },
      "execution_count": null,
      "outputs": []
    },
    {
      "cell_type": "markdown",
      "source": [
        "# While loop"
      ],
      "metadata": {
        "id": "L76xhFsny_rX"
      }
    },
    {
      "cell_type": "code",
      "source": [
        "i=0\n",
        "\n",
        "while i<5:\n",
        "  print(i)\n",
        "  i+=1"
      ],
      "metadata": {
        "colab": {
          "base_uri": "https://localhost:8080/"
        },
        "id": "C2VuG4e6zBzE",
        "outputId": "9fcf016a-d166-417e-a2b1-eca4c3418ca2"
      },
      "execution_count": null,
      "outputs": [
        {
          "output_type": "stream",
          "name": "stdout",
          "text": [
            "0\n",
            "1\n",
            "2\n",
            "3\n",
            "4\n"
          ]
        }
      ]
    },
    {
      "cell_type": "code",
      "source": [
        "# In python we dont have DO while like c++ or other languages so we can do something like\n",
        "\n",
        "\n",
        "\n",
        "i=5\n",
        "\n",
        "while True:\n",
        "  print(i)\n",
        "  if i >= 5:\n",
        "    break # Break will terminate the loop chain\n",
        "    print('hello')\n",
        "\n",
        "\n"
      ],
      "metadata": {
        "colab": {
          "base_uri": "https://localhost:8080/"
        },
        "id": "rcNmk2ZGzuR_",
        "outputId": "aac903ec-c291-419b-b12b-9a31119621cd"
      },
      "execution_count": null,
      "outputs": [
        {
          "output_type": "stream",
          "name": "stdout",
          "text": [
            "5\n"
          ]
        }
      ]
    },
    {
      "cell_type": "code",
      "source": [
        "min_len=2\n",
        "\n",
        "name=input('Please enter your name: ')\n",
        "\n",
        "while not(len(name) >= min_len and name.isprintable() and name.isalpha()):\n",
        "  name=input('Please enter your name: ')\n",
        "\n",
        "print('Hello, {0}'.format(name))"
      ],
      "metadata": {
        "colab": {
          "base_uri": "https://localhost:8080/"
        },
        "id": "hZf8MOlp0M9o",
        "outputId": "333fdc2a-5c47-4b50-c461-aa0330e8057f"
      },
      "execution_count": null,
      "outputs": [
        {
          "output_type": "stream",
          "name": "stdout",
          "text": [
            "Please enter your name: muhammad\n",
            "Hello, muhammad\n"
          ]
        }
      ]
    },
    {
      "cell_type": "code",
      "source": [
        "\n",
        "# Method      \tChecks For\t                       Empty String Behavior\t              Examples of Failing Strings\n",
        "# .isalpha()\t  All characters being alphabetic\t   Returns False\t                    \"123\", \"Hello123\", \"\"\n",
        "# .isprintable()\tAll characters being printable\t Returns True\t                    \"Hello\\nWorld\", \"\\tTab\""
      ],
      "metadata": {
        "id": "rIhl77hN1Eas"
      },
      "execution_count": null,
      "outputs": []
    },
    {
      "cell_type": "markdown",
      "source": [
        "# Refactoring above code"
      ],
      "metadata": {
        "id": "eTAGglJU4-hY"
      }
    },
    {
      "cell_type": "code",
      "source": [
        "# This small refactoring helped us avoid duplicate code for removing duplicate code for taking input\n",
        "min_len=2\n",
        "while True:\n",
        "  name=input('Please enter your name: ')\n",
        "  if len(name) >= min_len and name.isprintable() and name.isalpha():\n",
        "    break\n",
        "print('Hello, {0}'.format(name))"
      ],
      "metadata": {
        "colab": {
          "base_uri": "https://localhost:8080/"
        },
        "id": "yK_2LW6q5CJ2",
        "outputId": "160fb441-09da-4933-9db5-35e715bcb702"
      },
      "execution_count": null,
      "outputs": [
        {
          "output_type": "stream",
          "name": "stdout",
          "text": [
            "Please enter your name: 12\n",
            "Please enter your name: 12\n",
            "Please enter your name: 12\n",
            "Please enter your name: yasir\n",
            "Hello, yasir\n"
          ]
        }
      ]
    },
    {
      "cell_type": "code",
      "source": [
        "a= 0\n",
        "\n",
        "while a < 10:\n",
        "  a+=1\n",
        "  if a % 2 == 0:\n",
        "    continue # it go the next iteration rather than going to the next line\n",
        "  print(a)"
      ],
      "metadata": {
        "colab": {
          "base_uri": "https://localhost:8080/"
        },
        "id": "Za3jKZrW5hnt",
        "outputId": "4a2cd295-bd5f-4167-d749-7df0b59f35c3"
      },
      "execution_count": null,
      "outputs": [
        {
          "output_type": "stream",
          "name": "stdout",
          "text": [
            "1\n",
            "3\n",
            "5\n",
            "7\n",
            "9\n"
          ]
        }
      ]
    },
    {
      "cell_type": "markdown",
      "source": [
        "# While Else example"
      ],
      "metadata": {
        "id": "YPMkL-dx8es0"
      }
    },
    {
      "cell_type": "code",
      "source": [
        "# One way of doing it is without else statement and using flag\n",
        "\n",
        "val = 4\n",
        "data = [1, 2, 3]\n",
        "idx = 0\n",
        "found = False  # Initialize a flag to track if 'val' is found\n",
        "\n",
        "while idx < len(data):\n",
        "  if data[idx] == val:\n",
        "    found = True  # Set the flag to True if 'val' is found\n",
        "    break  # Exit the loop\n",
        "  idx += 1\n",
        "\n",
        "if not found:  # Check the flag after the loop\n",
        "  data.append(val)  # Append 'val' if it was not found\n",
        "\n",
        "print(data)"
      ],
      "metadata": {
        "id": "XK-ctk9Y8ZH-"
      },
      "execution_count": null,
      "outputs": []
    },
    {
      "cell_type": "code",
      "source": [
        "val = 4\n",
        "data = [1,2,3,2]\n",
        "idx=0\n",
        "while idx < len(data):\n",
        "  if data[idx] == val:\n",
        "    break  # Exit the loop if 'val' is found in 'data'\n",
        "  idx += 1\n",
        "else:\n",
        "  # This 'else' block executes ONLY if the 'while' loop completes\n",
        "  # without encountering a 'break' statement (i.e., 'val' was not found in 'data').\n",
        "  data.append(val)\n",
        "print(data)"
      ],
      "metadata": {
        "colab": {
          "base_uri": "https://localhost:8080/"
        },
        "id": "8fTEs6NU7SYC",
        "outputId": "187cc283-dce3-4a02-a548-027517494e69"
      },
      "execution_count": null,
      "outputs": [
        {
          "output_type": "stream",
          "name": "stdout",
          "text": [
            "[1, 2, 3, 2, 4]\n"
          ]
        }
      ]
    },
    {
      "cell_type": "markdown",
      "source": [
        "# Break and Continue with try block"
      ],
      "metadata": {
        "id": "A2S_0o_k8zeI"
      }
    },
    {
      "cell_type": "code",
      "source": [
        "a = 10\n",
        "b = 0\n",
        "\n",
        "try:\n",
        "  a/b\n",
        "except ZeroDivisionError:\n",
        "  print('division by 0')\n",
        "else:\n",
        "  print('no exceptions')\n",
        "finally:\n",
        "  print('always runs')"
      ],
      "metadata": {
        "colab": {
          "base_uri": "https://localhost:8080/"
        },
        "id": "L-gTzNWP82NL",
        "outputId": "dcb61b2e-bd6a-4b88-89c7-6b53e70eb2f2"
      },
      "execution_count": null,
      "outputs": [
        {
          "output_type": "stream",
          "name": "stdout",
          "text": [
            "division by 0\n",
            "always runs\n"
          ]
        }
      ]
    },
    {
      "cell_type": "code",
      "source": [
        "a = 0\n",
        "b = 2\n",
        "\n",
        "while a < 4:\n",
        "  print('-------------')\n",
        "  a += 1\n",
        "  b -= 1\n",
        "\n",
        "  try:\n",
        "    a / b\n",
        "  except ZeroDivisionError:\n",
        "    print('{0}, {1} - division by 0'.format(a,b))\n",
        "    continue # even tho we have continue here finally will still execute and same for break.\n",
        "  finally:\n",
        "    print('{0}, {1} - always executes'.format(a,b))\n",
        "\n",
        "  print(f'{a}, {b} - main loop')\n"
      ],
      "metadata": {
        "colab": {
          "base_uri": "https://localhost:8080/"
        },
        "id": "_YhSH5DIC5kh",
        "outputId": "9bae2c06-130f-4754-c2f1-d149e6bf5369"
      },
      "execution_count": null,
      "outputs": [
        {
          "output_type": "stream",
          "name": "stdout",
          "text": [
            "-------------\n",
            "1, 1 - always executes\n",
            "1, 1 - main loop\n",
            "-------------\n",
            "2, 0 - division by 0\n",
            "2, 0 - always executes\n",
            "-------------\n",
            "3, -1 - always executes\n",
            "3, -1 - main loop\n",
            "-------------\n",
            "4, -2 - always executes\n",
            "4, -2 - main loop\n"
          ]
        }
      ]
    },
    {
      "cell_type": "code",
      "source": [
        "a = 10\n",
        "b = 2\n",
        "\n",
        "while a < 4:\n",
        "  print('-------------')\n",
        "  a += 1\n",
        "  b -= 1\n",
        "\n",
        "  try:\n",
        "    a / b\n",
        "  except ZeroDivisionError:\n",
        "    print('{0}, {1} - division by 0'.format(a,b))\n",
        "    break # even tho we have continue here finally will still execute and same for break.\n",
        "  finally:\n",
        "    print('{0}, {1} - always executes'.format(a,b))\n",
        "\n",
        "  print(f'{a}, {b} - main loop')\n",
        "\n",
        "else:\n",
        "  print('Code executed without a zero division error')"
      ],
      "metadata": {
        "colab": {
          "base_uri": "https://localhost:8080/"
        },
        "id": "CGlGRdKxOKEI",
        "outputId": "d73526a2-d85e-4647-fe7a-2d29b9079cfd"
      },
      "execution_count": null,
      "outputs": [
        {
          "output_type": "stream",
          "name": "stdout",
          "text": [
            "Code executed without a zero division error\n"
          ]
        }
      ]
    },
    {
      "cell_type": "markdown",
      "source": [
        "# For Loop"
      ],
      "metadata": {
        "id": "nT5LabIJQED-"
      }
    },
    {
      "cell_type": "code",
      "source": [
        "# In python the for loop is not like other languages\n",
        "\n",
        "# In python, an iterable is an object capable of returning values one at a time\n",
        "\n",
        "# for example string, tuple, list (Objects) with iterable nature."
      ],
      "metadata": {
        "id": "SWYf3g2ieESu"
      },
      "execution_count": null,
      "outputs": []
    },
    {
      "cell_type": "code",
      "source": [
        "for i in range(5): # range is iterable and it calles the next on each iteration and then that value become available\n",
        "\n",
        "# range is not a collection its iterable\n",
        "  print(i)"
      ],
      "metadata": {
        "colab": {
          "base_uri": "https://localhost:8080/"
        },
        "id": "4RmdlPHodyDe",
        "outputId": "73ab1d1c-377d-4a3e-f3d7-437234c73d63"
      },
      "execution_count": null,
      "outputs": [
        {
          "output_type": "stream",
          "name": "stdout",
          "text": [
            "0\n",
            "1\n",
            "2\n",
            "3\n",
            "4\n"
          ]
        }
      ]
    },
    {
      "cell_type": "code",
      "source": [
        "# while loop is the closest to for loop in other lanaguages such as c++ or dart etc\n",
        "\n",
        "# in python let say\n",
        "# i=0\n",
        "# while i<5:\n",
        "#    i+=1 since we dont have ++ operator in python\n",
        "# i =None # to get it clean the momory\n",
        "# In python for loop is iterables"
      ],
      "metadata": {
        "id": "zmyyIxDXehAb"
      },
      "execution_count": null,
      "outputs": []
    },
    {
      "cell_type": "code",
      "source": [
        "# # Yes, the range function in\n",
        "# Python works similarly to a generator behind the scenes—it\n",
        "#doesn't actually store all the numbers in memory. Instead,\n",
        "#it lazily generates each value when you need it, which is\n",
        "#conceptually similar to how a generator uses yield.\n",
        "\n",
        "\n"
      ],
      "metadata": {
        "id": "2O2Q07N4eyKL"
      },
      "execution_count": null,
      "outputs": []
    },
    {
      "cell_type": "code",
      "source": [
        "for i in [1,2,3,4]: # since list, tuple and range is iterable not a collection it lazy load based on demand\n",
        "  print(i)"
      ],
      "metadata": {
        "colab": {
          "base_uri": "https://localhost:8080/"
        },
        "id": "CguAgEcbgK7n",
        "outputId": "86ece837-69bd-49ef-e8b7-a45d221fa54b"
      },
      "execution_count": null,
      "outputs": [
        {
          "output_type": "stream",
          "name": "stdout",
          "text": [
            "1\n",
            "2\n",
            "3\n",
            "4\n"
          ]
        }
      ]
    },
    {
      "cell_type": "code",
      "source": [
        "for c in 'hello':  # string is iterable as well (Object)\n",
        "  print(c)"
      ],
      "metadata": {
        "colab": {
          "base_uri": "https://localhost:8080/"
        },
        "id": "imkQINBmgVob",
        "outputId": "e7796ca1-b221-4638-d894-75f202075a7a"
      },
      "execution_count": null,
      "outputs": [
        {
          "output_type": "stream",
          "name": "stdout",
          "text": [
            "h\n",
            "e\n",
            "l\n",
            "l\n",
            "o\n"
          ]
        }
      ]
    },
    {
      "cell_type": "code",
      "source": [
        "for x in ('a','b','c'): # tuple is iterable\n",
        "  print(x)"
      ],
      "metadata": {
        "colab": {
          "base_uri": "https://localhost:8080/"
        },
        "id": "fLemsT-5ga9n",
        "outputId": "3b25bd9d-20c8-40d3-bf97-694d2a2fdd94"
      },
      "execution_count": null,
      "outputs": [
        {
          "output_type": "stream",
          "name": "stdout",
          "text": [
            "a\n",
            "b\n",
            "c\n"
          ]
        }
      ]
    },
    {
      "cell_type": "code",
      "source": [
        "for x in [(1,2),(3,4),(5,6)]: # list of tuple is iterable\n",
        "  print(x)"
      ],
      "metadata": {
        "colab": {
          "base_uri": "https://localhost:8080/"
        },
        "id": "qzeNlAzCgfy1",
        "outputId": "72899376-a6d0-478f-9828-26273baaf816"
      },
      "execution_count": null,
      "outputs": [
        {
          "output_type": "stream",
          "name": "stdout",
          "text": [
            "(1, 2)\n",
            "(3, 4)\n",
            "(5, 6)\n"
          ]
        }
      ]
    },
    {
      "cell_type": "code",
      "source": [
        "for i,j in [(1,2),(3,4),(5,6)]: # list of tuple is iterable\n",
        "  print(i,j) # extracting tuple values directly"
      ],
      "metadata": {
        "colab": {
          "base_uri": "https://localhost:8080/"
        },
        "id": "A9omByMTgnmw",
        "outputId": "272a11cd-3ee2-40f2-e62f-e76f8e50b569"
      },
      "execution_count": null,
      "outputs": [
        {
          "output_type": "stream",
          "name": "stdout",
          "text": [
            "1 2\n",
            "3 4\n",
            "5 6\n"
          ]
        }
      ]
    },
    {
      "cell_type": "code",
      "source": [
        "for i in range(1,5):\n",
        "  if i%2==0:\n",
        "    break\n",
        "  print(i)"
      ],
      "metadata": {
        "colab": {
          "base_uri": "https://localhost:8080/"
        },
        "id": "6um2WSgDhB_2",
        "outputId": "f4e19bef-cde1-4c36-c033-f1f4038cf20f"
      },
      "execution_count": null,
      "outputs": [
        {
          "output_type": "stream",
          "name": "stdout",
          "text": [
            "1\n"
          ]
        }
      ]
    },
    {
      "cell_type": "code",
      "source": [
        "for i in range(1,5):\n",
        "  print(i)\n",
        "  if i %7 ==0:\n",
        "    print('multiple of 7 found')\n",
        "    break\n",
        "else:\n",
        "  print('no multiples of 7 in the range') # else hits if no break hits simple if we exhaust the loop"
      ],
      "metadata": {
        "colab": {
          "base_uri": "https://localhost:8080/"
        },
        "id": "tKx09MrIhUmC",
        "outputId": "40f42cbb-f82a-4e54-942b-213a93886c71"
      },
      "execution_count": null,
      "outputs": [
        {
          "output_type": "stream",
          "name": "stdout",
          "text": [
            "1\n",
            "2\n",
            "3\n",
            "4\n",
            "no multiples of 7 in the range\n"
          ]
        }
      ]
    },
    {
      "cell_type": "code",
      "source": [
        "for i in range(5):\n",
        "  print('-----------------')\n",
        "  try:\n",
        "    10/(i-3)\n",
        "  except ZeroDivisionError:\n",
        "    print('divided by 0')\n",
        "    continue\n",
        "  finally:  # finally will always run even continue hits which go the next iteration\n",
        "    print('always run')"
      ],
      "metadata": {
        "colab": {
          "base_uri": "https://localhost:8080/"
        },
        "id": "cmWo8k_YrI6z",
        "outputId": "06ffcda9-51ce-4f86-a8d8-c2377ccc0619"
      },
      "execution_count": null,
      "outputs": [
        {
          "output_type": "stream",
          "name": "stdout",
          "text": [
            "-----------------\n",
            "always run\n",
            "-----------------\n",
            "always run\n",
            "-----------------\n",
            "always run\n",
            "-----------------\n",
            "divided by 0\n",
            "always run\n",
            "-----------------\n",
            "always run\n"
          ]
        }
      ]
    },
    {
      "cell_type": "code",
      "source": [
        "s = 'hello'\n",
        "for c in s:\n",
        "  print(c)\n"
      ],
      "metadata": {
        "colab": {
          "base_uri": "https://localhost:8080/"
        },
        "id": "6xI9fVZNsfHf",
        "outputId": "cb82a9d2-7ad3-4f39-f377-c041f6fcc915"
      },
      "execution_count": null,
      "outputs": [
        {
          "output_type": "stream",
          "name": "stdout",
          "text": [
            "h\n",
            "e\n",
            "l\n",
            "l\n",
            "o\n"
          ]
        }
      ]
    },
    {
      "cell_type": "markdown",
      "source": [
        "# Getting Index for Iterables"
      ],
      "metadata": {
        "id": "26ciBXtZtAf3"
      }
    },
    {
      "cell_type": "code",
      "source": [
        "s = 'hello'\n",
        "i = 0\n",
        "for c in s:\n",
        "  print(i, c)\n",
        "  i += 1"
      ],
      "metadata": {
        "colab": {
          "base_uri": "https://localhost:8080/"
        },
        "id": "LC3iLz-8tDKn",
        "outputId": "dcf961c3-8d56-43ef-ac10-d7ae5ead4320"
      },
      "execution_count": null,
      "outputs": [
        {
          "output_type": "stream",
          "name": "stdout",
          "text": [
            "0 h\n",
            "1 e\n",
            "2 l\n",
            "3 l\n",
            "4 o\n"
          ]
        }
      ]
    },
    {
      "cell_type": "code",
      "source": [
        "# another way of doing that\n",
        "\n",
        "s = 'hello'\n",
        "\n",
        "for i in range(len(s)):\n",
        "  print(i, s[i])"
      ],
      "metadata": {
        "colab": {
          "base_uri": "https://localhost:8080/"
        },
        "id": "xyjC7qNNtKBF",
        "outputId": "7f8f6002-1d49-4f65-fb59-3ad44f72b614"
      },
      "execution_count": null,
      "outputs": [
        {
          "output_type": "stream",
          "name": "stdout",
          "text": [
            "0 h\n",
            "1 e\n",
            "2 l\n",
            "3 l\n",
            "4 o\n"
          ]
        }
      ]
    },
    {
      "cell_type": "code",
      "source": [
        "# Better way of doing it\n",
        "\n",
        "s = 'Hello'\n",
        "\n",
        "for i, c in enumerate(s): # Enumerate returns a tuple where fist value is index and second is actual value\n",
        "  print(i, c)"
      ],
      "metadata": {
        "colab": {
          "base_uri": "https://localhost:8080/"
        },
        "id": "wA2erg1ftR2t",
        "outputId": "59d3f2e4-d82f-46a8-d4a0-cf4aa27617e7"
      },
      "execution_count": null,
      "outputs": [
        {
          "output_type": "stream",
          "name": "stdout",
          "text": [
            "0 H\n",
            "1 e\n",
            "2 l\n",
            "3 l\n",
            "4 o\n"
          ]
        }
      ]
    },
    {
      "cell_type": "code",
      "source": [
        "for i in {1,2,3}:  # sets are iteratable\n",
        "  print(i)"
      ],
      "metadata": {
        "id": "_3i96SdsYPd9",
        "outputId": "ba5e97f2-b3ff-4c14-e7e9-5e2cec5bf1b7",
        "colab": {
          "base_uri": "https://localhost:8080/"
        }
      },
      "execution_count": null,
      "outputs": [
        {
          "output_type": "stream",
          "name": "stdout",
          "text": [
            "1\n",
            "2\n",
            "3\n"
          ]
        }
      ]
    }
  ]
}